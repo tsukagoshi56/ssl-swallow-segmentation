{
 "cells": [
  {
   "cell_type": "markdown",
   "metadata": {},
   "source": [
    "## 学習用データセットのjsonファイルを作成する(test,validation,trainに分割する)"
   ]
  },
  {
   "cell_type": "code",
   "execution_count": 3,
   "metadata": {},
   "outputs": [
    {
     "name": "stdout",
     "output_type": "stream",
     "text": [
      "データセットの分割が完了しました。\n",
      "Train: 1755 件\n",
      "Val  : 195 件\n",
      "Test : 400 件\n",
      "出力先: ./../json/ssl_gru_only_eat_not_aug\n"
     ]
    }
   ],
   "source": [
    "import os\n",
    "import json\n",
    "import random\n",
    "\n",
    "# -------------------------\n",
    "# ハードコーディング設定\n",
    "# -------------------------\n",
    "INPUT_JSON = \"./../json/eat_not_aug.json\"        # マスター JSON ファイルのパス（実際のパスに変更してください）\n",
    "OUTPUT_DIR = \"./../json/ssl_gru_only_eat_not_aug\"               # 分割後の JSON ファイルの出力先ディレクトリ\n",
    "TRAIN_VAL_SPLIT = 0.9                        # 残りのデータに対する train 側の割合（例: 0.8 → 80% が train, 20% が val）\n",
    "TEST_SPEAKERS = [\"MAN01\", \"MDK01\", \"MDN01\", \"MKG01\", \"MHF01\"]            # テストに含める speaker 名のリスト\n",
    "# ※ アノテーション内の \"path\" からファイル名を取得し、\"_\" で区切ったときの第2要素を speaker 名とみなして判断します。\n",
    "\n",
    "# -------------------------\n",
    "# 出力先ディレクトリの作成\n",
    "# -------------------------\n",
    "os.makedirs(OUTPUT_DIR, exist_ok=True)\n",
    "\n",
    "# -------------------------\n",
    "# マスター JSON の読み込み\n",
    "# -------------------------\n",
    "with open(INPUT_JSON, 'r', encoding='utf-8') as f:\n",
    "    annotations = json.load(f)\n",
    "\n",
    "# -------------------------\n",
    "# アノテーションをテスト対象と残りに分割\n",
    "# -------------------------\n",
    "test_annotations = []\n",
    "remain_annotations = []\n",
    "\n",
    "for ann in annotations:\n",
    "    wav_path = ann.get(\"path\", \"\")\n",
    "    filename = os.path.basename(wav_path)\n",
    "    parts = filename.split(\"_\")\n",
    "    if len(parts) >= 2 and parts[1] in TEST_SPEAKERS:\n",
    "        test_annotations.append(ann)\n",
    "    else:\n",
    "        remain_annotations.append(ann)\n",
    "\n",
    "# -------------------------\n",
    "# 残りのデータをシャッフルして train と val に分割\n",
    "# -------------------------\n",
    "random.shuffle(remain_annotations)\n",
    "split_idx = int(len(remain_annotations) * TRAIN_VAL_SPLIT)\n",
    "train_annotations = remain_annotations[:split_idx]\n",
    "val_annotations = remain_annotations[split_idx:]\n",
    "\n",
    "# -------------------------\n",
    "# 分割した各データセットを JSON として保存\n",
    "# -------------------------\n",
    "train_json_path = os.path.join(OUTPUT_DIR, \"train.json\")\n",
    "val_json_path = os.path.join(OUTPUT_DIR, \"val.json\")\n",
    "test_json_path = os.path.join(OUTPUT_DIR, \"test.json\")\n",
    "\n",
    "with open(train_json_path, 'w', encoding='utf-8') as f:\n",
    "    json.dump(train_annotations, f, ensure_ascii=False, indent=2)\n",
    "with open(val_json_path, 'w', encoding='utf-8') as f:\n",
    "    json.dump(val_annotations, f, ensure_ascii=False, indent=2)\n",
    "with open(test_json_path, 'w', encoding='utf-8') as f:\n",
    "    json.dump(test_annotations, f, ensure_ascii=False, indent=2)\n",
    "\n",
    "# -------------------------\n",
    "# 結果の表示\n",
    "# -------------------------\n",
    "print(\"データセットの分割が完了しました。\")\n",
    "print(f\"Train: {len(train_annotations)} 件\")\n",
    "print(f\"Val  : {len(val_annotations)} 件\")\n",
    "print(f\"Test : {len(test_annotations)} 件\")\n",
    "print(f\"出力先: {OUTPUT_DIR}\")\n"
   ]
  }
 ],
 "metadata": {
  "kernelspec": {
   "display_name": "gcce2025",
   "language": "python",
   "name": "python3"
  },
  "language_info": {
   "codemirror_mode": {
    "name": "ipython",
    "version": 3
   },
   "file_extension": ".py",
   "mimetype": "text/x-python",
   "name": "python",
   "nbconvert_exporter": "python",
   "pygments_lexer": "ipython3",
   "version": "3.12.1"
  }
 },
 "nbformat": 4,
 "nbformat_minor": 2
}
