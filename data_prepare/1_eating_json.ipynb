{
 "cells": [
  {
   "cell_type": "markdown",
   "metadata": {},
   "source": [
    "## 食行動音声のJSON形式でのファイルを作成するプログラム"
   ]
  },
  {
   "cell_type": "code",
   "execution_count": 5,
   "metadata": {},
   "outputs": [],
   "source": [
    "eat_wav = \"./../dataset/old_wav_aug/conbined\"\n",
    "eat_txt = \"./../dataset/old_text_aug\"\n",
    "output_json_path = \"./../json/eat_not_aug.json\""
   ]
  },
  {
   "cell_type": "code",
   "execution_count": 8,
   "metadata": {},
   "outputs": [
    {
     "name": "stdout",
     "output_type": "stream",
     "text": [
      "JSONファイルを出力しました: ./../json/eat_not_aug.json\n"
     ]
    }
   ],
   "source": [
    "import os\n",
    "import json\n",
    "\n",
    "def generate_eat_json(eat_wav, eat_txt, output_json_path):\n",
    "    \"\"\"\n",
    "    テキストフォルダ(eat_txt)と音声フォルダ(eat_wav)の内容を対応付けて\n",
    "    JSONファイル(output_json_path)を作成する関数。\n",
    "    存在しないフォルダがあれば自動作成。\n",
    "    \"\"\"\n",
    "    \n",
    "    # 出力先のディレクトリが存在しない場合は作成\n",
    "    output_dir = os.path.dirname(output_json_path)\n",
    "    if output_dir and not os.path.exists(output_dir):\n",
    "        os.makedirs(output_dir)\n",
    "        print(f\"[Info] 出力先フォルダを作成しました: {output_dir}\")\n",
    "    \n",
    "    # JSON出力用のリスト\n",
    "    output_data = []\n",
    "    \n",
    "    # テキストファイルの一覧を取得\n",
    "    txt_files = sorted([f for f in os.listdir(eat_txt) if f.endswith('.txt')])\n",
    "\n",
    "    for txt_file in txt_files:\n",
    "        base_name = txt_file.replace('.txt', '')\n",
    "        parts = base_name.split('_')\n",
    "        \n",
    "        # 被験者名と食材名の間に \"conbined\" を挿入（typo注意: \"combined\" ではない？）\n",
    "        parts.insert(2, \"conbined\")\n",
    "        \n",
    "        wav_file_name = '_'.join(parts) + '.wav'\n",
    "        wav_path = os.path.normpath(os.path.join(eat_wav, wav_file_name))\n",
    "        if wav_path.startswith(os.pardir + os.sep):\n",
    "                wav_path = wav_path[len(os.pardir + os.sep):]\n",
    "        \n",
    "        txt_path = os.path.join(eat_txt, txt_file)\n",
    "        \n",
    "        timestamps_dict = {\n",
    "            \"chewing\": [],\n",
    "            \"swallowing\": [],\n",
    "            \"noise\": [],\n",
    "            \"speech\": []\n",
    "        }\n",
    "        \n",
    "        weak_labels = []\n",
    "        \n",
    "        with open(txt_path, 'r', encoding='utf-8') as f:\n",
    "            for line in f:\n",
    "                line = line.strip()\n",
    "                if not line:\n",
    "                    continue\n",
    "                parts_line = line.split()\n",
    "                if len(parts_line) < 3:\n",
    "                    continue\n",
    "\n",
    "                start_sec = float(parts_line[0])\n",
    "                end_sec = float(parts_line[1])\n",
    "                label = parts_line[2]\n",
    "                \n",
    "                if label == 'ch':\n",
    "                    timestamps_dict[\"chewing\"].append([start_sec, end_sec])\n",
    "                    weak_labels.append('#')\n",
    "                elif label == 'sw':\n",
    "                    timestamps_dict[\"swallowing\"].append([start_sec, end_sec])\n",
    "                    weak_labels.append('$')\n",
    "                elif label == 'no':\n",
    "                    timestamps_dict[\"noise\"].append([start_sec, end_sec])\n",
    "                    weak_labels.append('*')\n",
    "                else:\n",
    "                    print(f\"[Info] 想定外のラベルがありました: {label}\")\n",
    "                    continue\n",
    "        \n",
    "        item = {\n",
    "            \"path\": wav_path,\n",
    "            \"timestamps\": timestamps_dict,\n",
    "            \"text\": \"\".join(weak_labels)\n",
    "        }\n",
    "        \n",
    "        output_data.append(item)\n",
    "    \n",
    "    with open(output_json_path, 'w', encoding='utf-8') as out_f:\n",
    "        json.dump(output_data, out_f, ensure_ascii=False, indent=2)\n",
    "    \n",
    "    print(f\"JSONファイルを出力しました: {output_json_path}\")\n",
    "\n",
    "generate_eat_json(eat_wav, eat_txt, output_json_path)\n"
   ]
  },
  {
   "cell_type": "code",
   "execution_count": null,
   "metadata": {},
   "outputs": [],
   "source": []
  },
  {
   "cell_type": "code",
   "execution_count": null,
   "metadata": {},
   "outputs": [],
   "source": []
  }
 ],
 "metadata": {
  "kernelspec": {
   "display_name": "gcce2025",
   "language": "python",
   "name": "python3"
  },
  "language_info": {
   "codemirror_mode": {
    "name": "ipython",
    "version": 3
   },
   "file_extension": ".py",
   "mimetype": "text/x-python",
   "name": "python",
   "nbconvert_exporter": "python",
   "pygments_lexer": "ipython3",
   "version": "3.12.1"
  }
 },
 "nbformat": 4,
 "nbformat_minor": 2
}
